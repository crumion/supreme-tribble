{
 "cells": [
  {
   "cell_type": "markdown",
   "metadata": {},
   "source": [
    "# Lab 00: Hardware, Programming"
   ]
  },
  {
   "cell_type": "markdown",
   "metadata": {},
   "source": [
    "- **Name**:  Colton Crum\n",
    "- **Netid**: ccrum\n",
    "\n",
    "<font color=\"red\">Fill in the **Name** and **Netid** fields.</font>"
   ]
  },
  {
   "cell_type": "markdown",
   "metadata": {},
   "source": [
    "## Activity 1: Hardware\n",
    "\n",
    "The first activity is to gather information from the different computing devices in your life and then compare them:\n",
    "\n",
    "1. Personal Phone\n",
    "2. Personal Laptop\n",
    "3. Lab/University Computer\n",
    "\n",
    "<font color=\"red\">Describe each of the machines you are comparing.</font>"
   ]
  },
  {
   "cell_type": "markdown",
   "metadata": {},
   "source": [
    "### Device Information\n",
    "\n",
    "First, identify the following information for each device:\n",
    "\n",
    "1. Vendor of machine (Make, Model)\n",
    "2. CPU (Make, Model, Speed)\n",
    "3. RAM (Amount)\n",
    "4. Storage (Type, Amount)\n",
    "5. I/O (Types)\n",
    "\n",
    "<font color=\"red\">Complete the table below for each of the machines you are comparing.</font>\n",
    "\n",
    "| Device                 |  CPU                             | RAM         | Storage   | I/O                         |\n",
    "|------------------------|----------------------------------|-------------|-----------|-----------------------------|\n",
    "| Apple iPhone 8     | Apple A11 Bionic @ 2.39 GHz    | 3GB        | HDD 64GB | Touchscreen        |\n",
    "| Huawei Matebook                | AMD Ryzen 5 2500U with Radeon Vega Mobile Gfx 2.00 GHz | 8GB         | HDD 237GB   | Touchscreen, Keyboard, Touchpad                 |\n",
    "| Lenova ThinkCentre AIO     | Intel (R) Core(TM) i7-6700 CPU @ 3.40 GHz 3.41 GHz | 16GB        | HDD 238GB | Keyboard, Mouse, Monitor                   |"
   ]
  },
  {
   "cell_type": "markdown",
   "metadata": {},
   "source": [
    "### Benchmark Results\n",
    "\n",
    "Next, run the [JetStream](https://browserbench.org/JetStream/) browser benchmark on each device.\n",
    "\n",
    "<font color=\"red\">Complete the table below for each of the machines you are comparing.</font>\n",
    "\n",
    "| Device                 | JetStream Geometric Means        |\n",
    "|------------------------|----------------------------------|\n",
    "| Apple iPhone 8     | 222.71                           |\n",
    "| Lenova ThinkCentre AIO                | 208.64                           |\n",
    "| Huawei Matebook     | 81.85                          |"
   ]
  },
  {
   "cell_type": "markdown",
   "metadata": {},
   "source": [
    "### Reflection\n",
    "\n",
    "After you have gathered information about your computing devices and performed the benchmarks, answer the following reflection questions:\n",
    "\n",
    "1. From a hardware perspective, how are your computing devices similar?  How are they different?\n",
    "My personal laptop and the University desktop computer have the same amoung of HDD storage (237 GB). These devices are drastically different in regards to RAM, where my laptop is 8 GB and the University computer is 16 GB. My iPhone held the smallest storage and RAM, which wasn't a surprise for its mobility.\n",
    "    <font color=\"red\">Respond with your reflection here.</font>\n",
    "\n",
    "2. What were the results of your benchmarks?  What is your takeway regarding computing hardware that you get from these results?\n",
    "The benchmarks were surprising, as I thought my personal laptop would have perfromed much better than 81.85. My iPhone, given its small RAM, had the best performance at 222.71, followed by the University computer at 208.64. My takeaway from this benchmark test was that the University computers are pretty good, but not as snappy as my iPhone.\n",
    "    <font color=\"red\">Respond with your reflection here.</font>"
   ]
  },
  {
   "cell_type": "markdown",
   "metadata": {},
   "source": [
    "## Activity 2: Programming\n",
    "\n",
    "The second activity is to write two short [Python](https://www.python.org/) programs that involve reading input from the user, formatting text, and performing basic mathematical computations."
   ]
  },
  {
   "cell_type": "markdown",
   "metadata": {},
   "source": [
    "### Program 1: Hello, User!\n",
    "\n",
    "The first program is a modification to the classic \"Hello, World!\" program:\n",
    "\n",
    "```\n",
    ">>> print(\"Hello, World!\")\n",
    "Hello, World!\n",
    "```\n",
    "\n",
    "Instead of just printing \"Hello, World!\", you are to use the [input](https://docs.python.org/3/library/functions.html#input) function to read in a name, and then use this name to display \"Hello, name!\".\n",
    "\n",
    "A typical execution of your program should look like this:\n",
    "\n",
    "```\n",
    "What is your name? Peter\n",
    "Hello, Peter!\n",
    "```"
   ]
  },
  {
   "cell_type": "code",
   "execution_count": 2,
   "metadata": {},
   "outputs": [
    {
     "name": "stdout",
     "output_type": "stream",
     "text": [
      "What is your name? Colton\n",
      "Hello, Colton!\n"
     ]
    }
   ],
   "source": [
    "# Create your program here\n",
    "name = input(\"What is your name? \")\n",
    "print(\"Hello, {}!\" .format(name))"
   ]
  },
  {
   "cell_type": "markdown",
   "metadata": {},
   "source": [
    "### Program 2: Math Formula\n",
    "\n",
    "As discussed in class, programming doesn't necessarily require advanced math skills.  That said, we could always write programs to do math for us when we run into tricky math problems.  For the second program, you are to write an interactive math formula calculator for any of your favorite math equations.\n",
    "\n",
    "For instance, here is the execution of a program that computes the area of a rectangle based on its length and width:\n",
    "\n",
    "```\n",
    "What is the length of the rectangle? 5\n",
    "What is the width of the rectangle? 4\n",
    "The area of the rectangle with length (5) and width (4) is 20.\n",
    "```\n",
    "\n",
    "Note, your program must utilize at least one **variable** that it reads from the user and then **format** a sentence with the result of the equation."
   ]
  },
  {
   "cell_type": "code",
   "execution_count": 12,
   "metadata": {},
   "outputs": [
    {
     "name": "stdout",
     "output_type": "stream",
     "text": [
      "What is the base of the triangle? 4\n",
      "What is the height of the triangle? 5\n",
      "The area of a triangle with base 4.0 and height 5.0 is 10.0\n"
     ]
    }
   ],
   "source": [
    "# Create your program here\n",
    "base = float(input(\"What is the base of the triangle? \"))\n",
    "height = float(input(\"What is the height of the triangle? \"))\n",
    "area = 0.5*base*height\n",
    "print(\"The area of a triangle with base\", base, \"and height\", height, \"is\",area)\n"
   ]
  }
 ],
 "metadata": {
  "kernelspec": {
   "display_name": "Python 3",
   "language": "python",
   "name": "python3"
  },
  "language_info": {
   "codemirror_mode": {
    "name": "ipython",
    "version": 3
   },
   "file_extension": ".py",
   "mimetype": "text/x-python",
   "name": "python",
   "nbconvert_exporter": "python",
   "pygments_lexer": "ipython3",
   "version": "3.7.1"
  }
 },
 "nbformat": 4,
 "nbformat_minor": 2
}
