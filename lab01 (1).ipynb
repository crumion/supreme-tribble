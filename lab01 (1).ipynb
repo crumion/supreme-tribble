{
 "cells": [
  {
   "cell_type": "markdown",
   "metadata": {},
   "source": [
    "# Lab 01: Functions, RGB Colors"
   ]
  },
  {
   "cell_type": "code",
   "execution_count": 17,
   "metadata": {},
   "outputs": [],
   "source": [
    "from ipywidgets import interact\n",
    "from IPython.core.display import display, HTML"
   ]
  },
  {
   "cell_type": "markdown",
   "metadata": {},
   "source": [
    "## Actvity 1: Functions"
   ]
  },
  {
   "cell_type": "markdown",
   "metadata": {},
   "source": [
    "### Functions\n",
    "\n",
    "Use the [modulo] (`%`) arithmetic operator and [less-than-or-equal-to] (`<=`) comparison operator to implement the following functions:\n",
    "\n",
    "[modulo]: https://docs.python.org/3/reference/expressions.html#binary-arithmetic-operations\n",
    "[less-than-or-equal-to]: https://docs.python.org/3/reference/expressions.html#comparisons"
   ]
  },
  {
   "cell_type": "code",
   "execution_count": 18,
   "metadata": {},
   "outputs": [],
   "source": [
    "def is_odd(x):\n",
    "    oddly = (x%2 == 1)\n",
    "    return oddly\n",
    "    ''' Returns whether or not x is odd '''"
   ]
  },
  {
   "cell_type": "code",
   "execution_count": 19,
   "metadata": {},
   "outputs": [],
   "source": [
    "def is_even(x):\n",
    "    steven = (x%2 == 0)\n",
    "    return steven\n",
    "    ''' Returns whether or not x is even '''"
   ]
  },
  {
   "cell_type": "code",
   "execution_count": 20,
   "metadata": {},
   "outputs": [],
   "source": [
    "def is_multiple(x, y):\n",
    "    iple = (x%y == 0)\n",
    "    return iple\n",
    "    ''' Returns whether or not x is a multiple of y '''"
   ]
  },
  {
   "cell_type": "code",
   "execution_count": 21,
   "metadata": {},
   "outputs": [],
   "source": [
    "def is_between(x, y, z):\n",
    "    halloween = (y <= z and y >= x)\n",
    "    return halloween\n",
    "    ''' Returns whether or not y is between x and z (inclusive) '''\n"
   ]
  },
  {
   "cell_type": "markdown",
   "metadata": {},
   "source": [
    "### Interaction\n",
    "\n",
    "Once you have implemented and tested the functions above, write a `test_numbers` function that uses the functions you wrote to display the results of passing inputs `x`, `y`, `z` to the respective functions:"
   ]
  },
  {
   "cell_type": "code",
   "execution_count": 22,
   "metadata": {
    "scrolled": true
   },
   "outputs": [
    {
     "name": "stdout",
     "output_type": "stream",
     "text": [
      "True\n",
      "False\n",
      "True\n",
      "True\n"
     ]
    }
   ],
   "source": [
    "def test_numbers(x, y, z):\n",
    "    print (is_odd(x))\n",
    "    print (is_even(x))\n",
    "    print (is_multiple(x, y))\n",
    "    print (is_between(x,y,z))\n",
    "    ''' Print the results of passing x, y, z to is_odd, is_even, is_multiple, is_between '''\n",
    "test_numbers(5,5,5)\n",
    "    "
   ]
  },
  {
   "cell_type": "markdown",
   "metadata": {},
   "source": [
    "The output of `test_numbers(5, 5, 5)` should look something like this:\n",
    "\n",
    "```\n",
    "is_odd(5)           -> True\n",
    "is_even(5)          -> False\n",
    "is_multiple(5, 5)   -> True\n",
    "is_between(5, 5, 5) -> True\n",
    "```\n",
    "\n",
    "Once you have a working `test_numbers` function, use the [interact] function to call the `text_numbers` function repeated based on interactive inputs:\n",
    "\n",
    "[interact]: https://ipywidgets.readthedocs.io/en/stable/examples/Using%20Interact.html"
   ]
  },
  {
   "cell_type": "code",
   "execution_count": 23,
   "metadata": {},
   "outputs": [
    {
     "data": {
      "application/vnd.jupyter.widget-view+json": {
       "model_id": "f98bf01ca61c44b38435fab49eb41e6f",
       "version_major": 2,
       "version_minor": 0
      },
      "text/plain": [
       "interactive(children=(IntSlider(value=5, description='x', max=10), IntSlider(value=5, description='y', max=10)…"
      ]
     },
     "metadata": {},
     "output_type": "display_data"
    },
    {
     "data": {
      "text/plain": [
       "<function __main__.test_numbers(x, y, z)>"
      ]
     },
     "execution_count": 23,
     "metadata": {},
     "output_type": "execute_result"
    }
   ],
   "source": [
    "interact(test_numbers, x=(0, 10), y=(0, 10), z=(0, 10))"
   ]
  },
  {
   "cell_type": "markdown",
   "metadata": {},
   "source": [
    "### Expressions\n",
    "\n",
    "Use your functions above to write **boolean expressions** that evaluate the following:"
   ]
  },
  {
   "cell_type": "markdown",
   "metadata": {},
   "source": [
    "1. Whether or not a number is both odd and a multiple of `7`?"
   ]
  },
  {
   "cell_type": "code",
   "execution_count": 24,
   "metadata": {},
   "outputs": [
    {
     "name": "stdout",
     "output_type": "stream",
     "text": [
      "False\n",
      "True\n"
     ]
    }
   ],
   "source": [
    "def booman(x):\n",
    "    return (x % 2 == 1) and (x % 7 == 0)\n",
    "print (booman(14))\n",
    "print (booman(7))"
   ]
  },
  {
   "cell_type": "markdown",
   "metadata": {},
   "source": [
    "2. Whether or not a number is even but not a multiple of `6`?"
   ]
  },
  {
   "cell_type": "code",
   "execution_count": 25,
   "metadata": {
    "scrolled": true
   },
   "outputs": [
    {
     "name": "stdout",
     "output_type": "stream",
     "text": [
      "False\n",
      "True\n"
     ]
    }
   ],
   "source": [
    "def shoeman(x):\n",
    "    return (x % 2 == 0) and (x % 6 != 0)\n",
    "print(shoeman(6))\n",
    "print(shoeman(14))"
   ]
  },
  {
   "cell_type": "markdown",
   "metadata": {},
   "source": [
    "3. Whether or not a number is odd or a multiple of `8`?"
   ]
  },
  {
   "cell_type": "code",
   "execution_count": 26,
   "metadata": {},
   "outputs": [
    {
     "name": "stdout",
     "output_type": "stream",
     "text": [
      "True\n",
      "False\n"
     ]
    }
   ],
   "source": [
    "def oddity(x):\n",
    "    return (x % 2 == 1) or (x % 8 ==0)\n",
    "print(oddity(3))\n",
    "print(oddity(14))"
   ]
  },
  {
   "cell_type": "markdown",
   "metadata": {},
   "source": [
    "4. Whether or not a number is between `0` and `100` and is even?"
   ]
  },
  {
   "cell_type": "code",
   "execution_count": 27,
   "metadata": {},
   "outputs": [
    {
     "name": "stdout",
     "output_type": "stream",
     "text": [
      "False\n",
      "True\n"
     ]
    }
   ],
   "source": [
    "def evan(x):\n",
    "    return (x >= 0) and (x <= 100) and (x % 2 == 0)\n",
    "print(evan(5))\n",
    "print(evan(94))"
   ]
  },
  {
   "cell_type": "markdown",
   "metadata": {},
   "source": [
    "5. Whether or not a number is odd but not between `20` and `50`, or a multiple of `3`?"
   ]
  },
  {
   "cell_type": "code",
   "execution_count": 28,
   "metadata": {},
   "outputs": [
    {
     "name": "stdout",
     "output_type": "stream",
     "text": [
      "False\n",
      "True\n"
     ]
    }
   ],
   "source": [
    "def pacific(x):\n",
    "    return(((x % 2 == 1) and (x < 20 or x > 50)) or (x % 3 == 0))\n",
    "print(pacific(23))\n",
    "print(pacific(15))"
   ]
  },
  {
   "cell_type": "markdown",
   "metadata": {},
   "source": [
    "For each **boolean expression** provide an example of the expression evaluating to `True` and another where it evaluates to `False`."
   ]
  },
  {
   "cell_type": "markdown",
   "metadata": {},
   "source": [
    "## Activity 2: RGB Colors\n",
    "\n",
    "Implement the function `display_color`, which given `r`, `g`, and `b` color components, it generates a table that shows the following:\n",
    "\n",
    "<h5>Components of:</h5>\n",
    "<br>\n",
    "<div style=\"background: #7f7f7f;\">&nbsp;</div>\n",
    "<table>\n",
    "    <thead>\n",
    "        <th>Component</th>\n",
    "        <th>Decimal</th>\n",
    "        <th>Hexadecimal</th>\n",
    "        <th>Binary</th>\n",
    "    </thead>\n",
    "    <tbody>\n",
    "        <tr>\n",
    "            <td>Red</td>\n",
    "            <td>127</td>\n",
    "            <td>7f</td>\n",
    "            <td>01111111</td>\n",
    "        </tr>\n",
    "        <tr>\n",
    "            <td>Green</td>\n",
    "            <td>127</td>\n",
    "            <td>7f</td>\n",
    "            <td>01111111</td>\n",
    "        </tr>\n",
    "        <tr>\n",
    "            <td>Blue</td>\n",
    "            <td>127</td>\n",
    "            <td>7f</td>\n",
    "            <td>01111111</td>\n",
    "        </tr>\n",
    "    </tbody>\n",
    "</table>\n",
    "\n",
    "That is, for each color component show its decimal, hexadecimal, and binary representation.  Likewise, display a color block that shows the color the three components combine to create."
   ]
  },
  {
   "cell_type": "markdown",
   "metadata": {},
   "source": [
    "### HTML Table\n",
    "\n",
    "To display a [HTML] table in a Jupyter notebook, we can simply embed the [HTML] code into a string that we translate and convert using the `display` and `HTML` function.  For instance, to show some bolded text, we can do the following:\n",
    "\n",
    "```\n",
    "text = '<b>Hello, World</b>'\n",
    "display(HTML(text))\n",
    "```\n",
    "\n",
    "Note, the [HTML] text is simply a Python string and thus you can do all the things you can normally do on a string such as [format].\n",
    "\n",
    "[HTML]: https://developer.mozilla.org/en-US/docs/Web/HTML\n",
    "[format]: https://docs.python.org/3/library/functions.html#format\n",
    "\n",
    "Since we haven't covered [HTML] yet (we will later in the semester), we have provided with the necessary [HTML] template as a string below.  You simply need to format it with the appropriate values to make display the results."
   ]
  },
  {
   "cell_type": "code",
   "execution_count": 29,
   "metadata": {},
   "outputs": [],
   "source": [
    "TABLE = '''\n",
    "<h5>Components of:</h5>\n",
    "<br>\n",
    "<div style=\"background: #{};\">&nbsp;</div>\n",
    "<table>\n",
    "    <thead>\n",
    "        <th>Component</th>\n",
    "        <th>Decimal</th>\n",
    "        <th>Hexadecimal</th>\n",
    "        <th>Binary</th>\n",
    "    </thead>\n",
    "    <tbody>\n",
    "        <tr>\n",
    "            <td>Red</td>\n",
    "            <td>{}</td>\n",
    "            <td>{}</td>\n",
    "            <td>{}</td>\n",
    "        </tr>\n",
    "        <tr>\n",
    "            <td>Green</td>\n",
    "            <td>{}</td>\n",
    "            <td>{}</td>\n",
    "            <td>{}</td>\n",
    "        </tr>\n",
    "        <tr>\n",
    "            <td>Blue</td>\n",
    "            <td>{}</td>\n",
    "            <td>{}</td>\n",
    "            <td>{}</td>\n",
    "        </tr>\n",
    "    </tbody>\n",
    "</table>\n",
    "'''"
   ]
  },
  {
   "cell_type": "markdown",
   "metadata": {},
   "source": [
    "### Display Color Function\n",
    "\n",
    "Write a `display_color` function that given the `r`, `g`, and `b` values of a color as integers, it outputs an [HTML] table as described above:\n",
    "\n",
    "[HTML]: https://developer.mozilla.org/en-US/docs/Web/HTML"
   ]
  },
  {
   "cell_type": "code",
   "execution_count": 30,
   "metadata": {},
   "outputs": [],
   "source": [
    "def display_color(r, g, b):\n",
    "    rh = format(r, '02x')\n",
    "    gh = format(g, '02x')\n",
    "    bh = format(b, '02x')\n",
    "    rb = bin(r)\n",
    "    gb = bin(g)\n",
    "    bb = bin(b)\n",
    "    display(HTML(TABLE.format(rh+gh+bh, r, rh, rb, g, gh, gb, b, bh, bb)))\n",
    "    \n",
    "    \n",
    "    \n",
    "    \n",
    "    \n",
    "    ''' Display a HTML table that shows the color of the r, g, b \n",
    "    components and their decimal, hexadecimal, and binary representations.\n",
    "    '''\n",
    "\n"
   ]
  },
  {
   "cell_type": "markdown",
   "metadata": {},
   "source": [
    "### Color Interaction"
   ]
  },
  {
   "cell_type": "code",
   "execution_count": 31,
   "metadata": {},
   "outputs": [
    {
     "data": {
      "application/vnd.jupyter.widget-view+json": {
       "model_id": "02fc1e70ea62435d9702ce63d233658a",
       "version_major": 2,
       "version_minor": 0
      },
      "text/plain": [
       "interactive(children=(IntSlider(value=127, description='r', max=255), IntSlider(value=127, description='g', ma…"
      ]
     },
     "metadata": {},
     "output_type": "display_data"
    },
    {
     "data": {
      "text/plain": [
       "<function __main__.display_color(r, g, b)>"
      ]
     },
     "execution_count": 31,
     "metadata": {},
     "output_type": "execute_result"
    }
   ],
   "source": [
    "interact(display_color, r=(0, 255), g=(0, 255), b=(0, 255))"
   ]
  },
  {
   "cell_type": "code",
   "execution_count": 32,
   "metadata": {},
   "outputs": [
    {
     "ename": "SyntaxError",
     "evalue": "invalid syntax (<ipython-input-32-a65fe8fef09b>, line 3)",
     "output_type": "error",
     "traceback": [
      "\u001b[1;36m  File \u001b[1;32m\"<ipython-input-32-a65fe8fef09b>\"\u001b[1;36m, line \u001b[1;32m3\u001b[0m\n\u001b[1;33m    Use your `display_color` widget to fill in the following table of colors:\u001b[0m\n\u001b[1;37m           ^\u001b[0m\n\u001b[1;31mSyntaxError\u001b[0m\u001b[1;31m:\u001b[0m invalid syntax\n"
     ]
    }
   ],
   "source": [
    "### Exploration\n",
    "\n",
    "Use your `display_color` widget to fill in the following table of colors:\n",
    "\n",
    "| Color    | Red  | Green | Blue   | Hexadecimal |\n",
    "|----------|------|-------|--------|-------------|\n",
    "| Black    |   0  |   0   |   0     |    000000   |\n",
    "| Red      |255   |    0  |  63    |     ff003f  |\n",
    "| Green    |    0 |  159  | 0      |    009f00   |\n",
    "| Yellow   |   255   |   255    |   91     |    ffff5b         |\n",
    "| Blue     |    0  |  0     |    91    |    00005b         |\n",
    "| Magenta  |   186   |   0    |   91     |   ba005b          |\n",
    "| Cyan     |    0  |   191    |    144    |     00bf90        |\n",
    "| Gray     |  0    |    77   |   95     |   004d5f          |\n",
    "| White    |  255 |   255 |    255 |      ffffff |\n",
    "\n",
    "Of course, there are many different shades of each color, so use your `display_color` widget to find your favorite shade and enter in the **RGB** values of each color as decimals, along with the hexadecimal representation of each color."
   ]
  },
  {
   "cell_type": "code",
   "execution_count": null,
   "metadata": {},
   "outputs": [],
   "source": []
  },
  {
   "cell_type": "code",
   "execution_count": null,
   "metadata": {},
   "outputs": [],
   "source": []
  },
  {
   "cell_type": "code",
   "execution_count": null,
   "metadata": {},
   "outputs": [],
   "source": []
  },
  {
   "cell_type": "code",
   "execution_count": null,
   "metadata": {},
   "outputs": [],
   "source": []
  }
 ],
 "metadata": {
  "kernelspec": {
   "display_name": "Python 3",
   "language": "python",
   "name": "python3"
  },
  "language_info": {
   "codemirror_mode": {
    "name": "ipython",
    "version": 3
   },
   "file_extension": ".py",
   "mimetype": "text/x-python",
   "name": "python",
   "nbconvert_exporter": "python",
   "pygments_lexer": "ipython3",
   "version": "3.7.1"
  }
 },
 "nbformat": 4,
 "nbformat_minor": 2
}
