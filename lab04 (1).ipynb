{
 "cells": [
  {
   "cell_type": "markdown",
   "metadata": {},
   "source": [
    "# Lab 04: Duplicates\n",
    "\n",
    "- **Name**:  Colton Crum\n",
    "- **Netid**: ccrum"
   ]
  },
  {
   "cell_type": "markdown",
   "metadata": {},
   "source": [
    "## Activity 1: Brute-Force"
   ]
  },
  {
   "cell_type": "markdown",
   "metadata": {},
   "source": [
    "### Function"
   ]
  },
  {
   "cell_type": "code",
   "execution_count": 261,
   "metadata": {},
   "outputs": [],
   "source": [
    "def has_duplicates_bf(phrase):\n",
    "    phrase = phrase.split()\n",
    "    \n",
    "    for duplic in phrase:\n",
    "        word = duplic\n",
    "        for match in phrase[phrase.index(word) + 1:]:\n",
    "            if match == word:\n",
    "                return True\n",
    "           \n",
    "    return False"
   ]
  },
  {
   "cell_type": "markdown",
   "metadata": {},
   "source": [
    "### Testing"
   ]
  },
  {
   "cell_type": "code",
   "execution_count": 262,
   "metadata": {},
   "outputs": [],
   "source": [
    "LYRICS = [\n",
    "    \"But I've got a blank space, baby and I'll write your name\",\n",
    "    \"Cause we never go out of style, We never go out of style.\",\n",
    "    \"Baby, I'm just gonna shake, shake, shake, shake, shake, I shake it off, I shake it off\",\n",
    "    \"So take a look what you've done, Cause, baby, now we got bad blood\",\n",
    "    \"Ooh, look what you made me do, Look what you made me do\",\n",
    "]"
   ]
  },
  {
   "cell_type": "code",
   "execution_count": 263,
   "metadata": {},
   "outputs": [],
   "source": [
    "def check_lyrics(function, display=True):\n",
    "    for lyric in LYRICS:\n",
    "        if display == True:\n",
    "            print(\"{} -> {}\".format(lyric,function(lyric)))\n",
    "        else:\n",
    "            function(lyric)\n",
    "    \n",
    "    pass"
   ]
  },
  {
   "cell_type": "code",
   "execution_count": 264,
   "metadata": {},
   "outputs": [
    {
     "name": "stdout",
     "output_type": "stream",
     "text": [
      "But I've got a blank space, baby and I'll write your name -> False\n",
      "Cause we never go out of style, We never go out of style. -> True\n",
      "Baby, I'm just gonna shake, shake, shake, shake, shake, I shake it off, I shake it off -> True\n",
      "So take a look what you've done, Cause, baby, now we got bad blood -> False\n",
      "Ooh, look what you made me do, Look what you made me do -> True\n"
     ]
    }
   ],
   "source": [
    "check_lyrics(has_duplicates_bf, display=True)"
   ]
  },
  {
   "cell_type": "markdown",
   "metadata": {},
   "source": [
    "### Benchmarking"
   ]
  },
  {
   "cell_type": "code",
   "execution_count": 265,
   "metadata": {},
   "outputs": [
    {
     "name": "stdout",
     "output_type": "stream",
     "text": [
      "38.9 µs ± 661 ns per loop (mean ± std. dev. of 7 runs, 10000 loops each)\n"
     ]
    }
   ],
   "source": [
    "%timeit check_lyrics(has_duplicates_bf, display=False)"
   ]
  },
  {
   "cell_type": "markdown",
   "metadata": {},
   "source": [
    "### Reflection\n",
    "\n",
    "1. Describe the flow control of your `has_duplicates_bf` function.  How did it detect if there was a duplicate word?\n",
    "\n",
    "    <font color=\"red\">My program split the list into an string, separating each word in the index. This allowed the program to then iterate over the string using a nestled for loop. The for loop returned true when the variable duplic was equal to the variable lyric, which was each word in the string. The second for loop determines if the variable match in the string was equal by comparison to word, then the program found a duplicate. If this was not the case, the program returned false, meaning there was no duplicates.</font>\n",
    "\n",
    "2. What is the algorithmic complexity of your `has_duplicates_bf` function?\n",
    "\n",
    "    <font color=\"red\">The complexity of the program is 0(n), since the program is reiterating through the list, checking every element starting from the begining of the string.</font>"
   ]
  },
  {
   "cell_type": "markdown",
   "metadata": {},
   "source": [
    "## Activity 2: Sort and Scan"
   ]
  },
  {
   "cell_type": "markdown",
   "metadata": {},
   "source": [
    "### Function"
   ]
  },
  {
   "cell_type": "code",
   "execution_count": 266,
   "metadata": {},
   "outputs": [],
   "source": [
    "def has_duplicates_sc(phrase):\n",
    "    phrase = phrase.lower()\n",
    "    phrase = phrase.split()\n",
    "    phrase = sorted(phrase)\n",
    "    \n",
    "    for word in phrase:\n",
    "        if (phrase.index(word) < len(phrase) -1) and (word == phrase[phrase.index(word) + 1]):\n",
    "            return True\n",
    "        \n",
    "    return False\n",
    "    \n",
    "        "
   ]
  },
  {
   "cell_type": "markdown",
   "metadata": {},
   "source": [
    "### Testing"
   ]
  },
  {
   "cell_type": "code",
   "execution_count": 267,
   "metadata": {},
   "outputs": [
    {
     "name": "stdout",
     "output_type": "stream",
     "text": [
      "But I've got a blank space, baby and I'll write your name -> False\n",
      "Cause we never go out of style, We never go out of style. -> True\n",
      "Baby, I'm just gonna shake, shake, shake, shake, shake, I shake it off, I shake it off -> True\n",
      "So take a look what you've done, Cause, baby, now we got bad blood -> False\n",
      "Ooh, look what you made me do, Look what you made me do -> True\n"
     ]
    }
   ],
   "source": [
    "check_lyrics(has_duplicates_sc, display=True)"
   ]
  },
  {
   "cell_type": "markdown",
   "metadata": {},
   "source": [
    "### Benchmarking"
   ]
  },
  {
   "cell_type": "code",
   "execution_count": 268,
   "metadata": {},
   "outputs": [
    {
     "name": "stdout",
     "output_type": "stream",
     "text": [
      "37.4 µs ± 971 ns per loop (mean ± std. dev. of 7 runs, 10000 loops each)\n"
     ]
    }
   ],
   "source": [
    "%timeit check_lyrics(has_duplicates_sc, display=False)"
   ]
  },
  {
   "cell_type": "markdown",
   "metadata": {},
   "source": [
    "## Reflection\n",
    "\n",
    "1. Describe the flow control of your `has_duplicates_sc` function.  How did it detect if there was a duplicate word?\n",
    "    \n",
    "    <font color=\"red\">The has_duplicates_sc function first changed the list into a string and all lowercase with phrase.lower(). The string is then split into each word by phrase.split(), and finally sorted with sorted(phrase). Then a for loop checks word in phrase, to see if word is equal to an index in the string. If it is, the function will return True, if not, False.</font>\n",
    "\n",
    "2. What is the algorithmic complexity of your `has_duplicates_sc` function?\n",
    "\n",
    "    <font color=\"red\">The algortihmic complexity is 0(n), since the program is run through each index of the list. By sorting each word better than activity one with .lower() and sorted functions, the computer was able to process each word faster, even though both activity 1 and 2 were still algromically the same linear search. Sorting does make a difference in relation to speed for this type of elements or data.</font>"
   ]
  },
  {
   "cell_type": "markdown",
   "metadata": {},
   "source": [
    "## Activity 3: Sort and Search"
   ]
  },
  {
   "cell_type": "markdown",
   "metadata": {},
   "source": [
    "### Function"
   ]
  },
  {
   "cell_type": "code",
   "execution_count": 269,
   "metadata": {},
   "outputs": [],
   "source": [
    "import bisect\n",
    "\n",
    "def has_duplicates_bs(phrase):\n",
    "    phrase = phrase.lower()\n",
    "    phrase = sorted(phrase.split())\n",
    "    for wordindex in range(len(phrase)):\n",
    "        found = bisect.bisect_right(phrase, phrase[wordindex])\n",
    "        if wordindex + 1 != found:\n",
    "            return True\n",
    "       \n",
    "    return False\n"
   ]
  },
  {
   "cell_type": "markdown",
   "metadata": {},
   "source": [
    "### Testing"
   ]
  },
  {
   "cell_type": "code",
   "execution_count": 270,
   "metadata": {},
   "outputs": [
    {
     "name": "stdout",
     "output_type": "stream",
     "text": [
      "But I've got a blank space, baby and I'll write your name -> False\n",
      "Cause we never go out of style, We never go out of style. -> True\n",
      "Baby, I'm just gonna shake, shake, shake, shake, shake, I shake it off, I shake it off -> True\n",
      "So take a look what you've done, Cause, baby, now we got bad blood -> False\n",
      "Ooh, look what you made me do, Look what you made me do -> True\n"
     ]
    }
   ],
   "source": [
    "check_lyrics(has_duplicates_bs, display=True)"
   ]
  },
  {
   "cell_type": "markdown",
   "metadata": {},
   "source": [
    "### Benchmarking"
   ]
  },
  {
   "cell_type": "code",
   "execution_count": 271,
   "metadata": {},
   "outputs": [
    {
     "name": "stdout",
     "output_type": "stream",
     "text": [
      "31.7 µs ± 149 ns per loop (mean ± std. dev. of 7 runs, 10000 loops each)\n"
     ]
    }
   ],
   "source": [
    "%timeit check_lyrics(has_duplicates_bs, display=False)"
   ]
  },
  {
   "cell_type": "markdown",
   "metadata": {},
   "source": [
    "## Reflection\n",
    "\n",
    "1. Describe the flow control of your `has_duplicates_bs` function.  How did it detect if there was a duplicate word?\n",
    "\n",
    "    <font color=\"red\">The has_duplicates_bs function changes the list into a string, makes every element lowercase with phrase.lower, and split into each index with sorted(phrase.split()). Then the for loop uses forindex in the range of the string, if wordindex is equal to its binary then it will return true, stating a match. If the binary is not the same as the string is iterated, then there is no match for wordindex and found, which holds the counts for what each element in the data set is.</font>\n",
    "\n",
    "2. What is the algorithmic complexity of your `has_duplicates_bs` function?\n",
    "\n",
    "    <font color=\"red\">The algorithmic complexity of the has_duplicates_bs is 0(log(n), since this is the average case for binary search. This technique doesn't help our speed for this data set, since a linear search is more straight forward using small data sets.</font>"
   ]
  },
  {
   "cell_type": "markdown",
   "metadata": {},
   "source": [
    "## Activity 4: Reflection\n",
    "\n",
    "Examining the results of Activities 1, 2, and 3, what can you say about the relationship between algorithmic complexity and real world performance?\n",
    "\n",
    "<font color=\"red\">Though these programs function similarly, they complete the task differently and at different speeds. The way these algrioms are structured affect how long they take to complete. With the first activity, the program is moving through each index until it finds a match with a word that it has stored. This was elementary and took the longest to complete, as it was the slowest complexity 0(n) at 38.9 nanoseconds. With activity 2, the program worked similarly to the first, but the index was sorted with lowercase letters and stored the checking varaible differently from its list length. This speed up the algorithim to 37.4 nanoseconds. For activity 3, the index was splited, sorted, and then converted into binary. This allowed wordindex and found to search through the string. This was a lot faster, at 31.7 nanoseconds. Algorithmic complexity changes the speed needed to complete the task, and efficiency. With a different type of data, linear search may be more useful, and at smaller volumes. Each technique has its own place to find and sort through matches of data. </font>"
   ]
  }
 ],
 "metadata": {
  "kernelspec": {
   "display_name": "Python 3",
   "language": "python",
   "name": "python3"
  },
  "language_info": {
   "codemirror_mode": {
    "name": "ipython",
    "version": 3
   },
   "file_extension": ".py",
   "mimetype": "text/x-python",
   "name": "python",
   "nbconvert_exporter": "python",
   "pygments_lexer": "ipython3",
   "version": "3.7.1"
  }
 },
 "nbformat": 4,
 "nbformat_minor": 2
}
