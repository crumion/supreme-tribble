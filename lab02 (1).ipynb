{
 "cells": [
  {
   "cell_type": "markdown",
   "metadata": {},
   "source": [
    "# Lab 02: Letter Grade, Stadium Seating\n",
    "\n",
    "- **name**: Colton Crum\n",
    "- **netid**: ccrum"
   ]
  },
  {
   "cell_type": "code",
   "execution_count": 116,
   "metadata": {},
   "outputs": [],
   "source": [
    "from ipywidgets import interact"
   ]
  },
  {
   "cell_type": "markdown",
   "metadata": {},
   "source": [
    "## Activity 1: Letter Grade"
   ]
  },
  {
   "cell_type": "markdown",
   "metadata": {},
   "source": [
    "### Functions"
   ]
  },
  {
   "cell_type": "code",
   "execution_count": 117,
   "metadata": {},
   "outputs": [],
   "source": [
    "def letter_grade(points):\n",
    "    if 280 <= points <= 300:\n",
    "        return 'A'\n",
    "    \n",
    "    elif 270 <= points <= 279:\n",
    "        return 'A-'\n",
    "    \n",
    "    elif 260 <= points <= 269:\n",
    "        return 'B+'\n",
    "    \n",
    "    elif 250 <= points <= 259:\n",
    "        return 'B'\n",
    "    \n",
    "    elif 240 <= points <= 249:\n",
    "        return 'B-'\n",
    "    \n",
    "    elif 230 <= points <= 239:\n",
    "        return 'C+'\n",
    "    \n",
    "    elif 220 <= points <= 229:\n",
    "        return 'C'\n",
    "    \n",
    "    elif 210 <= points <= 219:\n",
    "        return 'C-'\n",
    "    \n",
    "    elif 195 <= points <= 209:\n",
    "        return 'D'\n",
    "    \n",
    "    else:\n",
    "        return 'F'\n",
    "        \n",
    "    return None "
   ]
  },
  {
   "cell_type": "code",
   "execution_count": 118,
   "metadata": {},
   "outputs": [],
   "source": [
    "MAX_POINTS = 300\n",
    "\n",
    "def summarize_grade(points):\n",
    "    percent = (points / MAX_POINTS)*100\n",
    "    print('Grade of {} / {} is {:.2f} ({})'.format(points, MAX_POINTS, percent, letter_grade(points)))"
   ]
  },
  {
   "cell_type": "markdown",
   "metadata": {},
   "source": [
    "### Interaction"
   ]
  },
  {
   "cell_type": "code",
   "execution_count": 119,
   "metadata": {},
   "outputs": [
    {
     "data": {
      "application/vnd.jupyter.widget-view+json": {
       "model_id": "8049bc0221ee4e23aa2f665f3cb324b8",
       "version_major": 2,
       "version_minor": 0
      },
      "text/plain": [
       "interactive(children=(IntSlider(value=150, description='points', max=300), Output()), _dom_classes=('widget-in…"
      ]
     },
     "metadata": {},
     "output_type": "display_data"
    },
    {
     "data": {
      "text/plain": [
       "<function __main__.summarize_grade(points)>"
      ]
     },
     "execution_count": 119,
     "metadata": {},
     "output_type": "execute_result"
    }
   ],
   "source": [
    "interact(summarize_grade, points=(0, 300))"
   ]
  },
  {
   "cell_type": "markdown",
   "metadata": {},
   "source": [
    "### Reflection\n",
    "\n",
    "1. Describe the **flow control** of your program.  Did you use **alternative execution**, **chained conditionals**, or **nested conditionals**?\n",
    "\n",
    "    <font color=\"red\">I used chained conditionals, since there are multiple possibilities and the need for several branches. When points meets the condition, the line of code or branch is executed.</font>\n",
    "\n",
    "2. As programs become more complex, it is important to break programs down into smaller individual components such as **functions**.  Discuss how having separate `letter_grade` and `summarize_grade` **functions** was useful in this program.\n",
    "\n",
    "    <font color=\"red\">It allowed for more simple code, and allowed each functions to interact without redundant lines or nested conditionals. It also made for easier adjustments, errors easier to interpret, and easy program additions.\n",
    "</font>"
   ]
  },
  {
   "cell_type": "markdown",
   "metadata": {},
   "source": [
    "## Activity 2: Stadium Seating"
   ]
  },
  {
   "cell_type": "markdown",
   "metadata": {},
   "source": [
    "### Functions"
   ]
  },
  {
   "cell_type": "code",
   "execution_count": 120,
   "metadata": {},
   "outputs": [],
   "source": [
    "def find_stadium_gate(section):\n",
    "    \n",
    "    if ((1 <= section <= 9) or (101 <= section <= 109)):\n",
    "        return 'Gate A'\n",
    "    \n",
    "    elif ((10 <= section <= 180) or (110 <= section <= 118)):\n",
    "        return 'Gate B'\n",
    "    \n",
    "    elif ((19 <= section <= 27) or (119 <= section <= 127)):\n",
    "        return 'Gate D'\n",
    "    \n",
    "    elif ((28 <= section <= 36) or (128 <= section <= 136)):\n",
    "        return 'Gate E'\n",
    "    else:\n",
    "        return None"
   ]
  },
  {
   "cell_type": "code",
   "execution_count": 121,
   "metadata": {},
   "outputs": [],
   "source": [
    "def display_gate(section):\n",
    "    \n",
    "    if section == '':\n",
    "        return None\n",
    "    section = int(section)\n",
    "    \n",
    "    if find_stadium_gate(section) == None:\n",
    "        print('Invalid Section: {}'.format(section))\n",
    "    else:\n",
    "        print('Seats in Section {} should use {}'.format(section, find_stadium_gate(section)))\n",
    "    \n",
    "    pass"
   ]
  },
  {
   "cell_type": "markdown",
   "metadata": {},
   "source": [
    "### Interaction"
   ]
  },
  {
   "cell_type": "code",
   "execution_count": 122,
   "metadata": {},
   "outputs": [
    {
     "data": {
      "application/vnd.jupyter.widget-view+json": {
       "model_id": "9a1731069fda4367a242deba59e60765",
       "version_major": 2,
       "version_minor": 0
      },
      "text/plain": [
       "interactive(children=(Text(value='', description='section'), Output()), _dom_classes=('widget-interact',))"
      ]
     },
     "metadata": {},
     "output_type": "display_data"
    },
    {
     "data": {
      "text/plain": [
       "<function __main__.display_gate(section)>"
      ]
     },
     "execution_count": 122,
     "metadata": {},
     "output_type": "execute_result"
    }
   ],
   "source": [
    "interact(display_gate, section='')"
   ]
  },
  {
   "cell_type": "markdown",
   "metadata": {},
   "source": [
    "### Reflection\n",
    "\n",
    "1. Describe the **flow control** of your program.  Did you use **alternative execution**, **chained conditionals**, or **nested conditionals**?\n",
    "\n",
    "      <font color=\"red\">Once I started to get the flow of Activity 1, I decided to use the same frame work of chained conditionals. This was the easiest for me to understand, executing once section fell within a condition.</font>\n",
    "\n",
    "2. A core part of building **robust** applications is having code that can **handle errors** such as invalid user input data.  In this program, describe the ways in which you **accounted** for possible invalid data.\n",
    "\n",
    "      <font color=\"red\">To account for user errors for invalid data, I coded so it had to be a string of something '', and it had to be an integer (int(section). If the section was outside of my conditions, it printed an Invalid Section, alerting the user to please choose a valid gate.</font>"
   ]
  }
 ],
 "metadata": {
  "kernelspec": {
   "display_name": "Python 3",
   "language": "python",
   "name": "python3"
  },
  "language_info": {
   "codemirror_mode": {
    "name": "ipython",
    "version": 3
   },
   "file_extension": ".py",
   "mimetype": "text/x-python",
   "name": "python",
   "nbconvert_exporter": "python",
   "pygments_lexer": "ipython3",
   "version": "3.7.1"
  }
 },
 "nbformat": 4,
 "nbformat_minor": 2
}
