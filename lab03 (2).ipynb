{
 "cells": [
  {
   "cell_type": "markdown",
   "metadata": {},
   "source": [
    "# Lab 03: Fizz Buzz Boom, Palindromes\n",
    "\n",
    "- **Name**: Colton Crum\n",
    "- **Netid**: ccrum"
   ]
  },
  {
   "cell_type": "markdown",
   "metadata": {},
   "source": [
    "## Activity 1: Fizz, Buzz, Boom"
   ]
  },
  {
   "cell_type": "markdown",
   "metadata": {},
   "source": [
    "### Function"
   ]
  },
  {
   "cell_type": "code",
   "execution_count": 67,
   "metadata": {},
   "outputs": [],
   "source": [
    "def fizz_buzz_boom(start, end):\n",
    "    fizz_buzz_boom = range(start, end + 1)\n",
    "    \n",
    "    for number in fizz_buzz_boom:\n",
    "        \n",
    "        if number == 0:\n",
    "            print(number)\n",
    "        \n",
    "        elif number % 3 == 0 and number % 5 == 0 and number % 7 == 0:\n",
    "            print(\"FizzBuzzBoom\")   \n",
    "        \n",
    "        elif number % 3 == 0 and number % 5 == 0:\n",
    "            print(\"FizzBuzz\")\n",
    "        \n",
    "        elif number % 5 == 0 and number % 7 == 0:\n",
    "            print(\"BuzzBoom\")\n",
    "        \n",
    "        elif number % 3 == 0 and number % 7 == 0:\n",
    "            print(\"FizzBoom\")\n",
    "        \n",
    "        elif number % 3 == 0:\n",
    "            print(\"Fizz\")\n",
    "        \n",
    "        elif number % 5 == 0:\n",
    "            print(\"Buzz\")\n",
    "        \n",
    "        elif number % 7 == 0:\n",
    "            print(\"Boom\")\n",
    "            \n",
    "        else:\n",
    "            print(number)\n",
    "    \n"
   ]
  },
  {
   "cell_type": "markdown",
   "metadata": {},
   "source": [
    "### Tests"
   ]
  },
  {
   "cell_type": "code",
   "execution_count": 68,
   "metadata": {},
   "outputs": [],
   "source": [
    "A1_TESTS = [\n",
    "   [3, 7],\n",
    "   [1, 10],\n",
    "   [1, 100],\n",
    "   [100, 110],\n",
    "]"
   ]
  },
  {
   "cell_type": "code",
   "execution_count": 69,
   "metadata": {},
   "outputs": [
    {
     "name": "stdout",
     "output_type": "stream",
     "text": [
      "Fizz\n",
      "4\n",
      "Buzz\n",
      "Fizz\n",
      "Boom\n",
      "1\n",
      "2\n",
      "Fizz\n",
      "4\n",
      "Buzz\n",
      "Fizz\n",
      "Boom\n",
      "8\n",
      "Fizz\n",
      "Buzz\n",
      "1\n",
      "2\n",
      "Fizz\n",
      "4\n",
      "Buzz\n",
      "Fizz\n",
      "Boom\n",
      "8\n",
      "Fizz\n",
      "Buzz\n",
      "11\n",
      "Fizz\n",
      "13\n",
      "Boom\n",
      "FizzBuzz\n",
      "16\n",
      "17\n",
      "Fizz\n",
      "19\n",
      "Buzz\n",
      "FizzBoom\n",
      "22\n",
      "23\n",
      "Fizz\n",
      "Buzz\n",
      "26\n",
      "Fizz\n",
      "Boom\n",
      "29\n",
      "FizzBuzz\n",
      "31\n",
      "32\n",
      "Fizz\n",
      "34\n",
      "BuzzBoom\n",
      "Fizz\n",
      "37\n",
      "38\n",
      "Fizz\n",
      "Buzz\n",
      "41\n",
      "FizzBoom\n",
      "43\n",
      "44\n",
      "FizzBuzz\n",
      "46\n",
      "47\n",
      "Fizz\n",
      "Boom\n",
      "Buzz\n",
      "Fizz\n",
      "52\n",
      "53\n",
      "Fizz\n",
      "Buzz\n",
      "Boom\n",
      "Fizz\n",
      "58\n",
      "59\n",
      "FizzBuzz\n",
      "61\n",
      "62\n",
      "FizzBoom\n",
      "64\n",
      "Buzz\n",
      "Fizz\n",
      "67\n",
      "68\n",
      "Fizz\n",
      "BuzzBoom\n",
      "71\n",
      "Fizz\n",
      "73\n",
      "74\n",
      "FizzBuzz\n",
      "76\n",
      "Boom\n",
      "Fizz\n",
      "79\n",
      "Buzz\n",
      "Fizz\n",
      "82\n",
      "83\n",
      "FizzBoom\n",
      "Buzz\n",
      "86\n",
      "Fizz\n",
      "88\n",
      "89\n",
      "FizzBuzz\n",
      "Boom\n",
      "92\n",
      "Fizz\n",
      "94\n",
      "Buzz\n",
      "Fizz\n",
      "97\n",
      "Boom\n",
      "Fizz\n",
      "Buzz\n",
      "Buzz\n",
      "101\n",
      "Fizz\n",
      "103\n",
      "104\n",
      "FizzBuzzBoom\n",
      "106\n",
      "107\n",
      "Fizz\n",
      "109\n",
      "Buzz\n"
     ]
    }
   ],
   "source": [
    "for ele in A1_TESTS:\n",
    "    fizz_buzz_boom(ele[0],ele[1])\n"
   ]
  },
  {
   "cell_type": "markdown",
   "metadata": {},
   "source": [
    "### Reflection\n",
    "\n",
    "After you have completed the program above, answer the following questions:\n",
    "\n",
    "1. Describe the **flow control** of your program. What sort of **conditional** or **repeated execution** statements did you use?\n",
    "\n",
    "    <font color=\"red\"> The program utilizes **repeated execution** by iterating through the list A1_TESTS using a for loop. The program then takes each value in the list and runs it through the function fizz_buzz_boom. This function fizz_buzz_boom uses chained conditions, which checks through each if statement until the condition is met, executing a print statement accordingly. If the value does not meet any of the if statements, the integer is printed. This process is repeated until the last element is reiterated, and thus the for loop ends.</font>\n",
    "\n",
    "2. Why do you think this question often trips up candidates interviewing for programming positions? What was the **trickiest** part of this problem for you?\n",
    "\n",
    "    <font color=\"red\"> It was challenging to set up the appropiate conditions that would determine the respective output. For example, I struggled with constaining an input of zero because it would always return the first condition. So I had to order my if statements correctly to make sure my program ran smoothly.</font>\n",
    "\n"
   ]
  },
  {
   "cell_type": "markdown",
   "metadata": {},
   "source": [
    "## Activity 2: Palindromes"
   ]
  },
  {
   "cell_type": "markdown",
   "metadata": {},
   "source": [
    "### Function"
   ]
  },
  {
   "cell_type": "code",
   "execution_count": 8,
   "metadata": {},
   "outputs": [],
   "source": [
    "def is_palindrome(numbers):\n",
    "    \n",
    "    reversed_list == numbers[:]\n",
    "    \n",
    "    for index in range(0, len(numbers)):\n",
    "        if numbers[i] != reversed_list[i]:\n",
    "            return False\n",
    "        i = index + 1\n",
    "    return True\n",
    "    \n",
    "    \n",
    "    \n",
    "    ''' Return True if the numbers list is a palindromic sequence, otherwise return False '''      \n",
    "    pass"
   ]
  },
  {
   "cell_type": "markdown",
   "metadata": {},
   "source": [
    "### Tests"
   ]
  },
  {
   "cell_type": "code",
   "execution_count": 9,
   "metadata": {},
   "outputs": [],
   "source": [
    "A2_TESTS = [\n",
    "    [1],\n",
    "    [1, 2],\n",
    "    [1, 2, 1],\n",
    "    [1, 2, 2, 1],\n",
    "    [1, 2, 3, 1],\n",
    "    [1, 3, 2, 1],\n",
    "    [1, 2, 3, 2, 1],\n",
    "]"
   ]
  },
  {
   "cell_type": "code",
   "execution_count": 10,
   "metadata": {},
   "outputs": [
    {
     "ename": "NameError",
     "evalue": "name 'reversed_list' is not defined",
     "output_type": "error",
     "traceback": [
      "\u001b[1;31m---------------------------------------------------------------------------\u001b[0m",
      "\u001b[1;31mNameError\u001b[0m                                 Traceback (most recent call last)",
      "\u001b[1;32m<ipython-input-10-e962e9ce1fe1>\u001b[0m in \u001b[0;36m<module>\u001b[1;34m\u001b[0m\n\u001b[0;32m      1\u001b[0m \u001b[1;32mfor\u001b[0m \u001b[0mlist\u001b[0m \u001b[1;32min\u001b[0m \u001b[0mA2_TESTS\u001b[0m\u001b[1;33m:\u001b[0m\u001b[1;33m\u001b[0m\u001b[1;33m\u001b[0m\u001b[0m\n\u001b[1;32m----> 2\u001b[1;33m     \u001b[0mprint\u001b[0m\u001b[1;33m(\u001b[0m\u001b[1;34m\"is_palindrome({}) -> {}\"\u001b[0m \u001b[1;33m.\u001b[0m\u001b[0mformat\u001b[0m\u001b[1;33m(\u001b[0m\u001b[0mlist\u001b[0m\u001b[1;33m,\u001b[0m \u001b[0mis_palindrome\u001b[0m\u001b[1;33m(\u001b[0m\u001b[0mlist\u001b[0m\u001b[1;33m)\u001b[0m\u001b[1;33m)\u001b[0m\u001b[1;33m)\u001b[0m\u001b[1;33m\u001b[0m\u001b[1;33m\u001b[0m\u001b[0m\n\u001b[0m",
      "\u001b[1;32m<ipython-input-8-c9871666f42d>\u001b[0m in \u001b[0;36mis_palindrome\u001b[1;34m(numbers)\u001b[0m\n\u001b[0;32m      1\u001b[0m \u001b[1;32mdef\u001b[0m \u001b[0mis_palindrome\u001b[0m\u001b[1;33m(\u001b[0m\u001b[0mnumbers\u001b[0m\u001b[1;33m)\u001b[0m\u001b[1;33m:\u001b[0m\u001b[1;33m\u001b[0m\u001b[1;33m\u001b[0m\u001b[0m\n\u001b[0;32m      2\u001b[0m \u001b[1;33m\u001b[0m\u001b[0m\n\u001b[1;32m----> 3\u001b[1;33m     \u001b[0mreversed_list\u001b[0m \u001b[1;33m==\u001b[0m \u001b[0mnumbers\u001b[0m\u001b[1;33m[\u001b[0m\u001b[1;33m:\u001b[0m\u001b[1;33m]\u001b[0m\u001b[1;33m\u001b[0m\u001b[1;33m\u001b[0m\u001b[0m\n\u001b[0m\u001b[0;32m      4\u001b[0m \u001b[1;33m\u001b[0m\u001b[0m\n\u001b[0;32m      5\u001b[0m     \u001b[1;32mfor\u001b[0m \u001b[0mindex\u001b[0m \u001b[1;32min\u001b[0m \u001b[0mrange\u001b[0m\u001b[1;33m(\u001b[0m\u001b[1;36m0\u001b[0m\u001b[1;33m,\u001b[0m \u001b[0mlen\u001b[0m\u001b[1;33m(\u001b[0m\u001b[0mnumbers\u001b[0m\u001b[1;33m)\u001b[0m\u001b[1;33m)\u001b[0m\u001b[1;33m:\u001b[0m\u001b[1;33m\u001b[0m\u001b[1;33m\u001b[0m\u001b[0m\n",
      "\u001b[1;31mNameError\u001b[0m: name 'reversed_list' is not defined"
     ]
    }
   ],
   "source": [
    "for list in A2_TESTS:\n",
    "    print(\"is_palindrome({}) -> {}\" .format(list, is_palindrome(list)))"
   ]
  },
  {
   "cell_type": "markdown",
   "metadata": {},
   "source": [
    "### Reflection\n",
    "\n",
    "After you have completed the program above, answer the following questions:\n",
    "\n",
    "1. Describe the **flow control** of your program.  What sort of **conditional** or **repeated execution** statements did you use?\n",
    "\n",
    "<font color=\"red\"> Similarly to activity one, the program utilizes repeated execution with a for loop. Beginning with the variable reversed_list, it creates a list of numbers in reverse order. Then a for loop executes, iterating through the length of the list. If the list is the same backwards as forwards, it is a palindrome, which returns true. The for loop increments by one, thus repeating the process until the list is iterated through.</font>\n",
    "\n",
    "    \n",
    "\n",
    "2. Why do you think this question often trips up candidates interviewing for programming positions? What was the **trickiest** part of this problem for you?\n",
    "\n",
    " <font color=\"red\"> It is difficult to interate both the reverse list and number list at the same time, simultaneously. I could understand issues with getting this to work. </font>"
   ]
  }
 ],
 "metadata": {
  "kernelspec": {
   "display_name": "Python 3",
   "language": "python",
   "name": "python3"
  },
  "language_info": {
   "codemirror_mode": {
    "name": "ipython",
    "version": 3
   },
   "file_extension": ".py",
   "mimetype": "text/x-python",
   "name": "python",
   "nbconvert_exporter": "python",
   "pygments_lexer": "ipython3",
   "version": "3.7.1"
  }
 },
 "nbformat": 4,
 "nbformat_minor": 2
}
